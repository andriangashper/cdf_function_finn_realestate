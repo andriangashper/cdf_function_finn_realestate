{
 "cells": [
  {
   "cell_type": "markdown",
   "metadata": {},
   "source": [
    "##"
   ]
  },
  {
   "cell_type": "code",
   "execution_count": 24,
   "metadata": {},
   "outputs": [],
   "source": [
    "# Import libraries\n",
    "from data import data_management\n",
    "from data.variables import MONGODB_COLLECTION_NAME\n",
    "from pyspark.sql import SparkSession\n",
    "from pyspark.sql.functions import col, current_date, round, year\n",
    "from pyspark.sql.types import DateType\n",
    "from pyspark.ml.feature import OneHotEncoder, StringIndexer\n",
    "from pyspark.ml import Pipeline"
   ]
  },
  {
   "cell_type": "code",
   "execution_count": 27,
   "metadata": {},
   "outputs": [
    {
     "name": "stdout",
     "output_type": "stream",
     "text": [
      "+--------------------+-----------------+------------+--------------------+-----+--------------------+--------------+-----------+---------+-------+------------+-------------+--------------+--------------------+-----------+\n",
      "|          about_home|construction_year|energy_label|          facilities|floor|            location|nr_of_bedrooms|nr_of_rooms|plot_area|  price|primary_area|property_type|renovated_year|               title|usable_area|\n",
      "+--------------------+-----------------+------------+--------------------+-----+--------------------+--------------+-----------+---------+-------+------------+-------------+--------------+--------------------+-----------+\n",
      "|RekkehusBruksarea...|             1969| E - Oransje|[Balkong/Terrasse...|    2|Åsenhagen 52C, 20...|             3|          4|    42459|4100000|          96|     Rekkehus|          null|Pent og velholdt ...|         96|\n",
      "|Stue, kjøkken, 3 ...|             1925|     G - Rød|[Balkong/Terrasse...|    1|Gammel-lina 32C, ...|             3|          4|      678|2970000|          74|    Leilighet|          null|Lekker og vesentl...|         79|\n",
      "|RekkehusBruksarea...|             1975|     F - Rød|[Garasje/P-plass,...|    2|Gangarstien 20, 4...|             3|       null|    86189|3490000|         114|     Rekkehus|          null|Kjekk bolig over ...|        122|\n",
      "|EierleilighetBruk...|             2022|     C - Rød|[Balkong/Terrasse...|    4|Vannebos veg 169,...|             1|          2|     4653|2940000|          45|    Leilighet|          null|Flott, oppgradert...|         45|\n",
      "|Bruksareal:2. eta...|             1984|     F - Gul|[Balkong/Terrasse...|    3|Teineveien 19, 43...|             2|          7|      491|3890000|         205|     Enebolig|          null|Enebolig i ettert...|        233|\n",
      "+--------------------+-----------------+------------+--------------------+-----+--------------------+--------------+-----------+---------+-------+------------+-------------+--------------+--------------------+-----------+\n",
      "only showing top 5 rows\n",
      "\n"
     ]
    }
   ],
   "source": [
    "# Create a Spark session\n",
    "spark = SparkSession.builder.appName(\"MongoDBIntegration\").getOrCreate()\n",
    "\n",
    "# Retrieve data from MongoDB\n",
    "mongo_db = data_management.get_database()\n",
    "mongo_collection = mongo_db[MONGODB_COLLECTION_NAME]\n",
    "mongo_data = list(mongo_collection.find())\n",
    "mongo_data_excluded_id = [{k: v for k, v in doc.items() if k not in [\"_id\",\"ad_id\", \"title\"]} for doc in mongo_data]\n",
    "\n",
    "# Create a PySpark DataFrame from the MongoDB data\n",
    "df = spark.createDataFrame(mongo_data_excluded_id)\n",
    "\n",
    "# Show the initial DataFrame\n",
    "df.show(5)\n"
   ]
  },
  {
   "cell_type": "code",
   "execution_count": 28,
   "metadata": {},
   "outputs": [
    {
     "name": "stdout",
     "output_type": "stream",
     "text": [
      "+--------------------+-----------------+------------+--------------------+-----+--------------------+--------------+-----------+---------+-------+------------+-------------+--------------+--------------------+-----------+------------------+------------+\n",
      "|          about_home|construction_year|energy_label|          facilities|floor|            location|nr_of_bedrooms|nr_of_rooms|plot_area|  price|primary_area|property_type|renovated_year|               title|usable_area|price_per_msquared|property_age|\n",
      "+--------------------+-----------------+------------+--------------------+-----+--------------------+--------------+-----------+---------+-------+------------+-------------+--------------+--------------------+-----------+------------------+------------+\n",
      "|RekkehusBruksarea...|             1969| E - Oransje|[Balkong/Terrasse...|    2|Åsenhagen 52C, 20...|             3|          4|    42459|4100000|          96|     Rekkehus|          null|Pent og velholdt ...|         96|          42708.33|          54|\n",
      "|Stue, kjøkken, 3 ...|             1925|     G - Rød|[Balkong/Terrasse...|    1|Gammel-lina 32C, ...|             3|          4|      678|2970000|          74|    Leilighet|          null|Lekker og vesentl...|         79|          40135.14|          98|\n",
      "|RekkehusBruksarea...|             1975|     F - Rød|[Garasje/P-plass,...|    2|Gangarstien 20, 4...|             3|       null|    86189|3490000|         114|     Rekkehus|          null|Kjekk bolig over ...|        122|          30614.04|          48|\n",
      "|EierleilighetBruk...|             2022|     C - Rød|[Balkong/Terrasse...|    4|Vannebos veg 169,...|             1|          2|     4653|2940000|          45|    Leilighet|          null|Flott, oppgradert...|         45|          65333.33|           1|\n",
      "|Bruksareal:2. eta...|             1984|     F - Gul|[Balkong/Terrasse...|    3|Teineveien 19, 43...|             2|          7|      491|3890000|         205|     Enebolig|          null|Enebolig i ettert...|        233|          18975.61|          39|\n",
      "+--------------------+-----------------+------------+--------------------+-----+--------------------+--------------+-----------+---------+-------+------------+-------------+--------------+--------------------+-----------+------------------+------------+\n",
      "only showing top 5 rows\n",
      "\n"
     ]
    }
   ],
   "source": [
    "# Transformation: Add a new column 'price_per_sqft' and 'property_age'\n",
    "df = df.withColumn(\"price_per_msquared\", round(col(\"price\") / col(\"primary_area\"),2))\n",
    "df = df.withColumn(\"property_age\", year(current_date()) - col(\"construction_year\"))\n",
    "# modify energy_level and propery_type and facilities to categorical data\n",
    "# modify facilities to categorical variable \n",
    "# get a sentiment score from about_home \n",
    "\n",
    "\n",
    "# Show the transformed DataFrame\n",
    "df.show(5)"
   ]
  },
  {
   "cell_type": "code",
   "execution_count": null,
   "metadata": {},
   "outputs": [],
   "source": []
  }
 ],
 "metadata": {
  "kernelspec": {
   "display_name": "finn",
   "language": "python",
   "name": "python3"
  },
  "language_info": {
   "codemirror_mode": {
    "name": "ipython",
    "version": 3
   },
   "file_extension": ".py",
   "mimetype": "text/x-python",
   "name": "python",
   "nbconvert_exporter": "python",
   "pygments_lexer": "ipython3",
   "version": "3.10.12"
  }
 },
 "nbformat": 4,
 "nbformat_minor": 2
}
